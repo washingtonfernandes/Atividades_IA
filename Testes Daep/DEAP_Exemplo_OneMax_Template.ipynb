{
  "nbformat": 4,
  "nbformat_minor": 0,
  "metadata": {
    "colab": {
      "provenance": []
    },
    "kernelspec": {
      "name": "python3",
      "display_name": "Python 3"
    },
    "language_info": {
      "name": "python"
    }
  },
  "cells": [
    {
      "cell_type": "code",
      "execution_count": 48,
      "metadata": {
        "colab": {
          "base_uri": "https://localhost:8080/"
        },
        "id": "ksBJEcf8z8De",
        "outputId": "e238c02a-bf2e-419a-e020-b1a8c6ba03f8"
      },
      "outputs": [
        {
          "output_type": "stream",
          "name": "stdout",
          "text": [
            "Requirement already satisfied: deap in /usr/local/lib/python3.12/dist-packages (1.4.3)\n",
            "Requirement already satisfied: numpy in /usr/local/lib/python3.12/dist-packages (from deap) (2.0.2)\n"
          ]
        }
      ],
      "source": [
        "!pip install deap"
      ]
    },
    {
      "cell_type": "code",
      "source": [
        "import warnings"
      ],
      "metadata": {
        "id": "zQRdHnqV0DIj"
      },
      "execution_count": 49,
      "outputs": []
    },
    {
      "cell_type": "code",
      "source": [
        "import random\n",
        "import numpy\n",
        "from deap import algorithms, base, creator, tools"
      ],
      "metadata": {
        "id": "60uT6U-H0GXD"
      },
      "execution_count": 50,
      "outputs": []
    },
    {
      "cell_type": "code",
      "source": [
        "# Gera o toolbox responsável por registrar as configurações do framework\n",
        "toolbox = base.Toolbox()\n"
      ],
      "metadata": {
        "id": "79Ywd--K0NaL"
      },
      "execution_count": 51,
      "outputs": []
    },
    {
      "cell_type": "code",
      "source": [
        "# Cria o tipo de função fitness e individuo\n",
        "creator.create(\"Maximization\", base.Fitness, weights=(1.0,))\n",
        "creator.create(\"Genes\", list, fitness=creator.Maximization)\n"
      ],
      "metadata": {
        "colab": {
          "base_uri": "https://localhost:8080/"
        },
        "id": "DQF1w4Pd0VUg",
        "outputId": "004749ce-0174-48da-c145-38209ad67fb1"
      },
      "execution_count": 52,
      "outputs": [
        {
          "output_type": "stream",
          "name": "stderr",
          "text": [
            "/usr/local/lib/python3.12/dist-packages/deap/creator.py:185: RuntimeWarning: A class named 'Maximization' has already been created and it will be overwritten. Consider deleting previous creation of that class or rename it.\n",
            "  warnings.warn(\"A class named '{0}' has already been created and it \"\n",
            "/usr/local/lib/python3.12/dist-packages/deap/creator.py:185: RuntimeWarning: A class named 'Genes' has already been created and it will be overwritten. Consider deleting previous creation of that class or rename it.\n",
            "  warnings.warn(\"A class named '{0}' has already been created and it \"\n"
          ]
        }
      ]
    },
    {
      "cell_type": "code",
      "source": [
        "# Registra os nomes e os tipos de indivíduo, fitness e população\n",
        "toolbox.register(\"Atributo\", random.randint, 0, 1)\n",
        "toolbox.register(\"Cromossomo\", tools.initRepeat, creator.Genes, toolbox.Atributo, 5)\n",
        "# Modify the population registration to use initRepeat for individuals\n",
        "toolbox.register(\"Populacao\", tools.initRepeat, list, toolbox.Cromossomo)"
      ],
      "metadata": {
        "id": "_fH_GRiV0Zoh"
      },
      "execution_count": 53,
      "outputs": []
    },
    {
      "cell_type": "code",
      "source": [
        "# Função fitness para 1 objetivo\n",
        "# Dica: colocar vírgula para manter o padrão com múltiplos objetivos\n",
        "\n",
        "def fitnessFunction(chromosome):\n",
        "  fitness= 0\n",
        "  for gene in chromosome:\n",
        "    if gene ==1:\n",
        "      fitness += 1\n",
        "  return fitness,"
      ],
      "metadata": {
        "id": "crTd4Nqd2f9Q"
      },
      "execution_count": 54,
      "outputs": []
    },
    {
      "cell_type": "code",
      "source": [
        "# Registrar os operadores. Deve-se manter os nomes evaluate, mate, mutate e select\n",
        "toolbox.register(\"evaluate\", fitnessFunction)\n",
        "toolbox.register(\"mate\", tools.cxTwoPoint)\n",
        "toolbox.register(\"mutate\", tools.mutFlipBit, indpb=0.02)\n",
        "toolbox.register(\"select\", tools.selTournament, tournsize=5)"
      ],
      "metadata": {
        "id": "geJhjghJ2-Us"
      },
      "execution_count": 58,
      "outputs": []
    },
    {
      "cell_type": "code",
      "source": [
        "# Gera o algoritmo genético com a estrutura e operadores cadastrados\n",
        "pop = toolbox.Populacao(n=20)\n",
        "prob_cx = 0.8\n",
        "prob_mut = 0.1\n",
        "nger = 100"
      ],
      "metadata": {
        "id": "YvsrGlmW3f2Q"
      },
      "execution_count": 59,
      "outputs": []
    },
    {
      "cell_type": "code",
      "source": [
        "finalPop, log = algorithms.eaSimple(pop, toolbox, prob_cx, prob_mut, nger)"
      ],
      "metadata": {
        "colab": {
          "base_uri": "https://localhost:8080/"
        },
        "collapsed": true,
        "id": "Q_kBSONQ5S77",
        "outputId": "f1fdef6e-8ce8-4ba6-83ab-d1ef5d7e4e2c"
      },
      "execution_count": 60,
      "outputs": [
        {
          "output_type": "stream",
          "name": "stdout",
          "text": [
            "gen\tnevals\n",
            "0  \t20    \n",
            "1  \t17    \n",
            "2  \t15    \n",
            "3  \t20    \n",
            "4  \t16    \n",
            "5  \t15    \n",
            "6  \t18    \n",
            "7  \t18    \n",
            "8  \t16    \n",
            "9  \t16    \n",
            "10 \t18    \n",
            "11 \t18    \n",
            "12 \t16    \n",
            "13 \t13    \n",
            "14 \t16    \n",
            "15 \t18    \n",
            "16 \t18    \n",
            "17 \t18    \n",
            "18 \t20    \n",
            "19 \t20    \n",
            "20 \t16    \n",
            "21 \t18    \n",
            "22 \t18    \n",
            "23 \t20    \n",
            "24 \t18    \n",
            "25 \t13    \n",
            "26 \t20    \n",
            "27 \t18    \n",
            "28 \t18    \n",
            "29 \t18    \n",
            "30 \t18    \n",
            "31 \t19    \n",
            "32 \t16    \n",
            "33 \t16    \n",
            "34 \t14    \n",
            "35 \t14    \n",
            "36 \t20    \n",
            "37 \t18    \n",
            "38 \t16    \n",
            "39 \t17    \n",
            "40 \t14    \n",
            "41 \t18    \n",
            "42 \t20    \n",
            "43 \t17    \n",
            "44 \t16    \n",
            "45 \t20    \n",
            "46 \t20    \n",
            "47 \t8     \n",
            "48 \t15    \n",
            "49 \t14    \n",
            "50 \t16    \n",
            "51 \t17    \n",
            "52 \t17    \n",
            "53 \t13    \n",
            "54 \t18    \n",
            "55 \t18    \n",
            "56 \t16    \n",
            "57 \t16    \n",
            "58 \t20    \n",
            "59 \t14    \n",
            "60 \t18    \n",
            "61 \t16    \n",
            "62 \t13    \n",
            "63 \t19    \n",
            "64 \t14    \n",
            "65 \t15    \n",
            "66 \t14    \n",
            "67 \t16    \n",
            "68 \t15    \n",
            "69 \t12    \n",
            "70 \t18    \n",
            "71 \t18    \n",
            "72 \t12    \n",
            "73 \t17    \n",
            "74 \t17    \n",
            "75 \t18    \n",
            "76 \t18    \n",
            "77 \t17    \n",
            "78 \t16    \n",
            "79 \t18    \n",
            "80 \t18    \n",
            "81 \t18    \n",
            "82 \t17    \n",
            "83 \t18    \n",
            "84 \t18    \n",
            "85 \t13    \n",
            "86 \t18    \n",
            "87 \t18    \n",
            "88 \t18    \n",
            "89 \t18    \n",
            "90 \t12    \n",
            "91 \t17    \n",
            "92 \t16    \n",
            "93 \t14    \n",
            "94 \t16    \n",
            "95 \t18    \n",
            "96 \t16    \n",
            "97 \t20    \n",
            "98 \t17    \n",
            "99 \t18    \n",
            "100\t16    \n"
          ]
        }
      ]
    },
    {
      "cell_type": "code",
      "source": [
        "melhorSolucao = tools.selBest(pop, k=1)\n",
        "for i in melhorSolucao:\n",
        "  print(f'Indivíduo: {i} - Fitness: {i.fitness}')"
      ],
      "metadata": {
        "colab": {
          "base_uri": "https://localhost:8080/"
        },
        "id": "_CygCtRd5jpP",
        "outputId": "0f83c47f-3610-4777-86b2-8dd7fc292202"
      },
      "execution_count": 65,
      "outputs": [
        {
          "output_type": "stream",
          "name": "stdout",
          "text": [
            "Indivíduo: [1, 1, 1, 1, 1] - Fitness: (5.0,)\n"
          ]
        }
      ]
    },
    {
      "cell_type": "code",
      "source": [],
      "metadata": {
        "id": "jVwv-N6K6QVB"
      },
      "execution_count": null,
      "outputs": []
    }
  ]
}