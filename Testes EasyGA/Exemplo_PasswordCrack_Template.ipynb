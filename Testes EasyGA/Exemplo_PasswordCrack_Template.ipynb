{
  "nbformat": 4,
  "nbformat_minor": 0,
  "metadata": {
    "colab": {
      "provenance": []
    },
    "kernelspec": {
      "name": "python3",
      "display_name": "Python 3"
    },
    "language_info": {
      "name": "python"
    }
  },
  "cells": [
    {
      "cell_type": "code",
      "execution_count": null,
      "metadata": {
        "colab": {
          "base_uri": "https://localhost:8080/"
        },
        "id": "yipY8QW0s_bx",
        "outputId": "736d64c3-5934-46c0-9300-0a4c880a7006"
      },
      "outputs": [
        {
          "output_type": "stream",
          "name": "stdout",
          "text": [
            "Requirement already satisfied: EasyGA in /usr/local/lib/python3.12/dist-packages (1.6.1)\n"
          ]
        }
      ],
      "source": [
        "!pip install EasyGA --no-deps\n"
      ]
    },
    {
      "cell_type": "code",
      "source": [
        "!pip install matplotlib==3.8.4\n"
      ],
      "metadata": {
        "colab": {
          "base_uri": "https://localhost:8080/"
        },
        "id": "Ca-StQ9_tX_3",
        "outputId": "ca8b5426-31b1-440b-c349-a0e1918a49c5"
      },
      "execution_count": null,
      "outputs": [
        {
          "output_type": "stream",
          "name": "stdout",
          "text": [
            "Requirement already satisfied: matplotlib==3.8.4 in /usr/local/lib/python3.12/dist-packages (3.8.4)\n",
            "Requirement already satisfied: contourpy>=1.0.1 in /usr/local/lib/python3.12/dist-packages (from matplotlib==3.8.4) (1.3.3)\n",
            "Requirement already satisfied: cycler>=0.10 in /usr/local/lib/python3.12/dist-packages (from matplotlib==3.8.4) (0.12.1)\n",
            "Requirement already satisfied: fonttools>=4.22.0 in /usr/local/lib/python3.12/dist-packages (from matplotlib==3.8.4) (4.60.1)\n",
            "Requirement already satisfied: kiwisolver>=1.3.1 in /usr/local/lib/python3.12/dist-packages (from matplotlib==3.8.4) (1.4.9)\n",
            "Requirement already satisfied: numpy>=1.21 in /usr/local/lib/python3.12/dist-packages (from matplotlib==3.8.4) (2.0.2)\n",
            "Requirement already satisfied: packaging>=20.0 in /usr/local/lib/python3.12/dist-packages (from matplotlib==3.8.4) (25.0)\n",
            "Requirement already satisfied: pillow>=8 in /usr/local/lib/python3.12/dist-packages (from matplotlib==3.8.4) (11.3.0)\n",
            "Requirement already satisfied: pyparsing>=2.3.1 in /usr/local/lib/python3.12/dist-packages (from matplotlib==3.8.4) (3.2.5)\n",
            "Requirement already satisfied: python-dateutil>=2.7 in /usr/local/lib/python3.12/dist-packages (from matplotlib==3.8.4) (2.9.0.post0)\n",
            "Requirement already satisfied: six>=1.5 in /usr/local/lib/python3.12/dist-packages (from python-dateutil>=2.7->matplotlib==3.8.4) (1.17.0)\n"
          ]
        }
      ]
    },
    {
      "cell_type": "code",
      "source": [
        "import EasyGA\n",
        "import random\n",
        "import string\n"
      ],
      "metadata": {
        "id": "WCDqGYPUtiBu"
      },
      "execution_count": null,
      "outputs": []
    },
    {
      "cell_type": "code",
      "source": [
        "# Exemplo de gereção aleatória\n",
        "for i in (string.ascii_letters + string.digits + string.punctuation):\n",
        "  print(i, end='')"
      ],
      "metadata": {
        "colab": {
          "base_uri": "https://localhost:8080/"
        },
        "id": "f_CoLL74to7E",
        "outputId": "fe8517d2-4e50-4e41-9531-f64a224848d6"
      },
      "execution_count": null,
      "outputs": [
        {
          "output_type": "stream",
          "name": "stdout",
          "text": [
            "abcdefghijklmnopqrstuvwxyzABCDEFGHIJKLMNOPQRSTUVWXYZ0123456789!\"#$%&'()*+,-./:;<=>?@[\\]^_`{|}~"
          ]
        }
      ]
    },
    {
      "cell_type": "code",
      "source": [
        "# Função de geração aleatória\n",
        "def randomLetter():\n",
        "  letter = random.choice(string.ascii_letters + string.digits + string.punctuation)\n",
        "  return letter"
      ],
      "metadata": {
        "id": "HDaRXEqnt6-s"
      },
      "execution_count": null,
      "outputs": []
    },
    {
      "cell_type": "code",
      "source": [
        "# Cadastrar uma senha\n",
        "password = input(\"Entre com uma senha: \")"
      ],
      "metadata": {
        "colab": {
          "base_uri": "https://localhost:8080/"
        },
        "id": "wNBAom7RuS3z",
        "outputId": "f53a5734-57e8-40d1-a480-22cb4b6d7b20"
      },
      "execution_count": null,
      "outputs": [
        {
          "name": "stdout",
          "output_type": "stream",
          "text": [
            "Entre com uma senha: #PosIA2025\n"
          ]
        }
      ]
    },
    {
      "cell_type": "code",
      "source": [
        "def password_fitness(chromosome):\n",
        " fitness = 0\n",
        " for gene, letter in zip(chromosome, password):\n",
        "  if gene == letter:\n",
        "   fitness += 1\n",
        " return fitness"
      ],
      "metadata": {
        "id": "lSrDCGKmuhDf"
      },
      "execution_count": null,
      "outputs": []
    },
    {
      "cell_type": "code",
      "source": [
        "# Cadastrar o algoritmo genético\n",
        "ga = EasyGA.GA()\n",
        "ga.chromosome_length = len(password)\n",
        "ga.population_size = 50\n",
        "ga.generation_goal = 1000\n",
        "ga.fitness_goal = len(password)\n",
        "\n",
        "ga.fitness_function_impl = password_fitness\n",
        "ga.gene_impl = randomLetter"
      ],
      "metadata": {
        "id": "GfpXWfWUu7oU"
      },
      "execution_count": null,
      "outputs": []
    },
    {
      "cell_type": "code",
      "source": [
        "# Execução do algoritmo\n",
        "# Apreseta a melhor solução em cada 10 gerações\n",
        "while ga.active():\n",
        "  ga.evolve(10)\n",
        "  ga.print_generation()\n",
        "  ga.print_best_chromosome()\n"
      ],
      "metadata": {
        "colab": {
          "base_uri": "https://localhost:8080/"
        },
        "id": "8bKh_oCwxE31",
        "outputId": "5dd21ab0-1197-40b8-f392-403f8c812cd8"
      },
      "execution_count": null,
      "outputs": [
        {
          "output_type": "stream",
          "name": "stdout",
          "text": [
            "Current Generation \t: 10\n",
            "Best Chromosome \t: [)][z][o][>][d][A][!][0][,][5]\n",
            "Best Fitness    \t: 4\n",
            "Current Generation \t: 20\n",
            "Best Chromosome \t: [)][z][o][>][d][A][!][0][,][5]\n",
            "Best Fitness    \t: 4\n",
            "Current Generation \t: 30\n",
            "Best Chromosome \t: [)][P][o][>][d][A][!][0][,][5]\n",
            "Best Fitness    \t: 5\n",
            "Current Generation \t: 40\n",
            "Best Chromosome \t: [)][P][o][>][d][A][2][0][,][5]\n",
            "Best Fitness    \t: 6\n",
            "Current Generation \t: 50\n",
            "Best Chromosome \t: [#][P][o][>][d][A][2][0][,][5]\n",
            "Best Fitness    \t: 7\n",
            "Current Generation \t: 60\n",
            "Best Chromosome \t: [#][P][o][>][I][A][2][0][,][5]\n",
            "Best Fitness    \t: 8\n",
            "Current Generation \t: 70\n",
            "Best Chromosome \t: [#][P][o][>][I][A][2][0][,][5]\n",
            "Best Fitness    \t: 8\n",
            "Current Generation \t: 80\n",
            "Best Chromosome \t: [#][P][o][>][I][A][2][0][,][5]\n",
            "Best Fitness    \t: 8\n",
            "Current Generation \t: 90\n",
            "Best Chromosome \t: [#][P][o][>][I][A][2][0][,][5]\n",
            "Best Fitness    \t: 8\n",
            "Current Generation \t: 100\n",
            "Best Chromosome \t: [#][P][o][>][I][A][2][0][2][5]\n",
            "Best Fitness    \t: 9\n",
            "Current Generation \t: 110\n",
            "Best Chromosome \t: [#][P][o][>][I][A][2][0][2][5]\n",
            "Best Fitness    \t: 9\n",
            "Current Generation \t: 120\n",
            "Best Chromosome \t: [#][P][o][>][I][A][2][0][2][5]\n",
            "Best Fitness    \t: 9\n",
            "Current Generation \t: 130\n",
            "Best Chromosome \t: [#][P][o][>][I][A][2][0][2][5]\n",
            "Best Fitness    \t: 9\n",
            "Current Generation \t: 140\n",
            "Best Chromosome \t: [#][P][o][>][I][A][2][0][2][5]\n",
            "Best Fitness    \t: 9\n",
            "Current Generation \t: 150\n",
            "Best Chromosome \t: [#][P][o][>][I][A][2][0][2][5]\n",
            "Best Fitness    \t: 9\n",
            "Current Generation \t: 152\n",
            "Best Chromosome \t: [#][P][o][s][I][A][2][0][2][5]\n",
            "Best Fitness    \t: 10\n"
          ]
        }
      ]
    },
    {
      "cell_type": "code",
      "source": [
        "# População final\n",
        "ga.print_population()"
      ],
      "metadata": {
        "colab": {
          "base_uri": "https://localhost:8080/"
        },
        "id": "B89r9dufxzrm",
        "outputId": "26de7a44-51ac-45da-b1f8-36d6e58ac20b"
      },
      "execution_count": null,
      "outputs": [
        {
          "output_type": "stream",
          "name": "stdout",
          "text": [
            "Chromosome - 0 [#][P][o][s][I][A][2][0][2][5] / Fitness = 10\n",
            "Chromosome - 1 [#][P][o][>][I][A][2][0][2][5] / Fitness = 9\n",
            "Chromosome - 2 [#][P][o][>][I][A][2][0][2][5] / Fitness = 9\n",
            "Chromosome - 3 [#][P][o][>][I][A][2][0][2][5] / Fitness = 9\n",
            "Chromosome - 4 [#][P][o][>][I][A][2][0][2][5] / Fitness = 9\n",
            "Chromosome - 5 [#][P][o][>][I][A][2][0][2][5] / Fitness = 9\n",
            "Chromosome - 6 [#][P][o][/][I][A][2][0][2][5] / Fitness = 9\n",
            "Chromosome - 7 [#][P][o][/][I][A][2][0][2][5] / Fitness = 9\n",
            "Chromosome - 8 [#][P][o][J][I][A][2][0][2][5] / Fitness = 9\n",
            "Chromosome - 9 [#][P][o][5][I][A][2][0][2][5] / Fitness = 9\n",
            "Chromosome - 10 [#][P][o][/][I][A][2][0][2][5] / Fitness = 9\n",
            "Chromosome - 11 [#][P][o][K][I][A][2][0][2][5] / Fitness = 9\n",
            "Chromosome - 12 [#][P][o][/][I][A][2][0][2][5] / Fitness = 9\n",
            "Chromosome - 13 [#][P][o][U][I][A][2][0][2][5] / Fitness = 9\n",
            "Chromosome - 14 [#][P][o][G][I][A][2][0][2][5] / Fitness = 9\n",
            "Chromosome - 15 [#][P][o][5][I][A][2][0][2][5] / Fitness = 9\n",
            "Chromosome - 16 [#][P][o][/][I][A][2][0][2][5] / Fitness = 9\n",
            "Chromosome - 17 [#][P][o][T][I][A][2][0][2][5] / Fitness = 9\n",
            "Chromosome - 18 [#][P][o][C][I][A][2][0][2][5] / Fitness = 9\n",
            "Chromosome - 19 [#][P][o][T][I][A][2][0][2][5] / Fitness = 9\n",
            "Chromosome - 20 [#][P][o][/][I][A][2][0][2][5] / Fitness = 9\n",
            "Chromosome - 21 [#][P][o][/][I][A][2][0][2][5] / Fitness = 9\n",
            "Chromosome - 22 [#][P][o][>][I][A][2][0][2][5] / Fitness = 9\n",
            "Chromosome - 23 [#][P][o][5][I][A][2][0][2][5] / Fitness = 9\n",
            "Chromosome - 24 [#][P][o][T][I][A][2][0][2][5] / Fitness = 9\n",
            "Chromosome - 25 [#][P][o][/][I][A][2][0][2][5] / Fitness = 9\n",
            "Chromosome - 26 [#][P][o][/][I][A][2][0][2][5] / Fitness = 9\n",
            "Chromosome - 27 [#][P][o][>][I][A][2][0][2][5] / Fitness = 9\n",
            "Chromosome - 28 [#][P][o][>][I][A][2][0][2][5] / Fitness = 9\n",
            "Chromosome - 29 [#][P][o][>][I][A][2][0][2][5] / Fitness = 9\n",
            "Chromosome - 30 [#][P][o][>][I][A][2][0][2][5] / Fitness = 9\n",
            "Chromosome - 31 [#][P][o][>][I][A][2][0][2][5] / Fitness = 9\n",
            "Chromosome - 32 [#][P][o][>][I][A][2][0][2][5] / Fitness = 9\n",
            "Chromosome - 33 [#][P][o][>][I][A][2][0][2][5] / Fitness = 9\n",
            "Chromosome - 34 [#][P][o][/][I][A][2][0][2][5] / Fitness = 9\n",
            "Chromosome - 35 [#][P][o][>][I][A][2][0][2][5] / Fitness = 9\n",
            "Chromosome - 36 [#][P][o][/][I][A][2][0][2][5] / Fitness = 9\n",
            "Chromosome - 37 [#][P][o][/][I][A][2][0][2][5] / Fitness = 9\n",
            "Chromosome - 38 [#][P][o][>][I][A][2][0][2][5] / Fitness = 9\n",
            "Chromosome - 39 [#][P][o][>][I][A][2][0][2][5] / Fitness = 9\n",
            "Chromosome - 40 [#][P][o][>][I][A][2][0][2][5] / Fitness = 9\n",
            "Chromosome - 41 [#][P][o][T][I][A][2][0][2][W] / Fitness = 8\n",
            "Chromosome - 42 [#][P][o][T][_][A][2][0][2][5] / Fitness = 8\n",
            "Chromosome - 43 [#][P][o][/][I][A][2][0][0][5] / Fitness = 8\n",
            "Chromosome - 44 [#][P][o][5][=][A][2][0][2][5] / Fitness = 8\n",
            "Chromosome - 45 [#][u][o][/][I][A][2][0][2][5] / Fitness = 8\n",
            "Chromosome - 46 [#][P][6][/][I][A][2][0][2][5] / Fitness = 8\n",
            "Chromosome - 47 [#][P][o][>][I][A][2][0][2][j] / Fitness = 8\n",
            "Chromosome - 48 [#][{][o][/][I][A][2][0][2][5] / Fitness = 8\n",
            "Chromosome - 49 [#][P][o][>][I][A][v][0][2][5] / Fitness = 8\n",
            "\n"
          ]
        }
      ]
    },
    {
      "cell_type": "code",
      "source": [
        "# Gráfico de convergência\n",
        "ga.graph.highest_value_chromosome()\n",
        "ga.graph.show()"
      ],
      "metadata": {
        "id": "j0H3uqFLyJxr",
        "outputId": "566c9a36-0573-45b0-9aab-88ff59371f30",
        "colab": {
          "base_uri": "https://localhost:8080/",
          "height": 472
        }
      },
      "execution_count": null,
      "outputs": [
        {
          "output_type": "display_data",
          "data": {
            "text/plain": [
              "<Figure size 640x480 with 1 Axes>"
            ],
            "image/png": "[encoded data removed]"
          },
          "metadata": {}
        }
      ]
    }
  ]
}