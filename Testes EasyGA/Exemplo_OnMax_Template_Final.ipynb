{
  "nbformat": 4,
  "nbformat_minor": 0,
  "metadata": {
    "colab": {
      "provenance": []
    },
    "kernelspec": {
      "name": "python3",
      "display_name": "Python 3"
    },
    "language_info": {
      "name": "python"
    }
  },
  "cells": [
    {
      "cell_type": "code",
      "execution_count": 1,
      "metadata": {
        "colab": {
          "base_uri": "https://localhost:8080/"
        },
        "id": "yipY8QW0s_bx",
        "outputId": "12122fee-7eb4-4c7b-c0b8-e4c561818ad3"
      },
      "outputs": [
        {
          "output_type": "stream",
          "name": "stdout",
          "text": [
            "Requirement already satisfied: EasyGA in /usr/local/lib/python3.12/dist-packages (1.6.1)\n"
          ]
        }
      ],
      "source": [
        "!pip install EasyGA --no-deps\n"
      ]
    },
    {
      "cell_type": "code",
      "source": [
        "!pip install matplotlib==3.8.4\n"
      ],
      "metadata": {
        "colab": {
          "base_uri": "https://localhost:8080/"
        },
        "id": "Ca-StQ9_tX_3",
        "outputId": "db4e8eea-bfa7-4332-8a34-33d18e25277d"
      },
      "execution_count": 2,
      "outputs": [
        {
          "output_type": "stream",
          "name": "stdout",
          "text": [
            "Requirement already satisfied: matplotlib==3.8.4 in /usr/local/lib/python3.12/dist-packages (3.8.4)\n",
            "Requirement already satisfied: contourpy>=1.0.1 in /usr/local/lib/python3.12/dist-packages (from matplotlib==3.8.4) (1.3.3)\n",
            "Requirement already satisfied: cycler>=0.10 in /usr/local/lib/python3.12/dist-packages (from matplotlib==3.8.4) (0.12.1)\n",
            "Requirement already satisfied: fonttools>=4.22.0 in /usr/local/lib/python3.12/dist-packages (from matplotlib==3.8.4) (4.60.1)\n",
            "Requirement already satisfied: kiwisolver>=1.3.1 in /usr/local/lib/python3.12/dist-packages (from matplotlib==3.8.4) (1.4.9)\n",
            "Requirement already satisfied: numpy>=1.21 in /usr/local/lib/python3.12/dist-packages (from matplotlib==3.8.4) (2.0.2)\n",
            "Requirement already satisfied: packaging>=20.0 in /usr/local/lib/python3.12/dist-packages (from matplotlib==3.8.4) (25.0)\n",
            "Requirement already satisfied: pillow>=8 in /usr/local/lib/python3.12/dist-packages (from matplotlib==3.8.4) (11.3.0)\n",
            "Requirement already satisfied: pyparsing>=2.3.1 in /usr/local/lib/python3.12/dist-packages (from matplotlib==3.8.4) (3.2.5)\n",
            "Requirement already satisfied: python-dateutil>=2.7 in /usr/local/lib/python3.12/dist-packages (from matplotlib==3.8.4) (2.9.0.post0)\n",
            "Requirement already satisfied: six>=1.5 in /usr/local/lib/python3.12/dist-packages (from python-dateutil>=2.7->matplotlib==3.8.4) (1.17.0)\n"
          ]
        }
      ]
    },
    {
      "cell_type": "code",
      "source": [
        "import EasyGA\n",
        "import random\n",
        "import string\n"
      ],
      "metadata": {
        "id": "WCDqGYPUtiBu"
      },
      "execution_count": 3,
      "outputs": []
    },
    {
      "cell_type": "code",
      "source": [
        "#Gera o objeto algoritmo genético\n",
        "ga = EasyGA.GA()\n",
        "\n",
        "#Chromossome params\n",
        "ga.population_size = 10\n",
        "ga.chromosome_length = 5\n",
        "\n",
        "# Cadastra o valor da solução ótima\n",
        "ga.fitness_goal = ga.chromosome_length\n",
        "\n",
        "# Cadatra o valor total de gerações\n",
        "ga.generation_goal = 50\n",
        "\n",
        "#Cria os genes no formato binário\n",
        "ga.gene_impl = lambda: random.randint(0,1)\n",
        "\n",
        "# Define como problema de maximização\n",
        "ga.target_fitness_type = \"max\""
      ],
      "metadata": {
        "id": "OblfSnPwyixj"
      },
      "execution_count": 4,
      "outputs": []
    },
    {
      "cell_type": "code",
      "source": [
        "def fitnessFunction(chromosome):\n",
        "  fitness = 0\n",
        "  for gene in chromosome:\n",
        "    if gene == 1:\n",
        "      fitness += 1\n",
        "  return fitness"
      ],
      "metadata": {
        "id": "X-m0gbOezKcX"
      },
      "execution_count": 5,
      "outputs": []
    },
    {
      "cell_type": "code",
      "source": [
        "# Cadastrar a função do fitness\n",
        "ga.fitness_function_impl = fitnessFunction"
      ],
      "metadata": {
        "id": "fNxgtvELzN-k"
      },
      "execution_count": 6,
      "outputs": []
    },
    {
      "cell_type": "code",
      "source": [
        "# Inicia a execução do algoritmo\n",
        "ga.evolve()\n",
        "ga.print_generation()\n",
        "ga.print_population()"
      ],
      "metadata": {
        "colab": {
          "base_uri": "https://localhost:8080/"
        },
        "id": "CwlJLjtHzQQi",
        "outputId": "b17f6ced-e1cf-4dda-a741-a9a9e19a70f9"
      },
      "execution_count": 7,
      "outputs": [
        {
          "output_type": "stream",
          "name": "stdout",
          "text": [
            "Current Generation \t: 14\n",
            "Chromosome - 0 [1][1][1][1][1] / Fitness = 5\n",
            "Chromosome - 1 [0][1][1][1][1] / Fitness = 4\n",
            "Chromosome - 2 [0][1][1][1][1] / Fitness = 4\n",
            "Chromosome - 3 [0][1][1][1][1] / Fitness = 4\n",
            "Chromosome - 4 [1][0][1][1][1] / Fitness = 4\n",
            "Chromosome - 5 [0][1][1][1][1] / Fitness = 4\n",
            "Chromosome - 6 [0][1][1][1][1] / Fitness = 4\n",
            "Chromosome - 7 [0][1][1][1][1] / Fitness = 4\n",
            "Chromosome - 8 [0][1][1][1][1] / Fitness = 4\n",
            "Chromosome - 9 [1][0][1][1][0] / Fitness = 3\n",
            "\n"
          ]
        }
      ]
    },
    {
      "cell_type": "code",
      "source": [
        "# Mostra a curva de convergência\n",
        "ga.graph.highest_value_chromosome()\n",
        "ga.graph.show()\n"
      ],
      "metadata": {
        "colab": {
          "base_uri": "https://localhost:8080/",
          "height": 472
        },
        "id": "xhuGqe5gzTLE",
        "outputId": "3b8a1b6a-07e8-47d6-932c-cfce3e8436aa"
      },
      "execution_count": 8,
      "outputs": [
        {
          "output_type": "display_data",
          "data": {
            "text/plain": [
              "<Figure size 640x480 with 1 Axes>"
            ],
            "image/png": "[encoded data removed]"
          },
          "metadata": {}
        }
      ]
    }
  ]
}