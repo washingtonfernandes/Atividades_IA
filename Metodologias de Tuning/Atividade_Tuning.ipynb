{
  "nbformat": 4,
  "nbformat_minor": 0,
  "metadata": {
    "colab": {
      "provenance": []
    },
    "kernelspec": {
      "name": "python3",
      "display_name": "Python 3"
    },
    "language_info": {
      "name": "python"
    }
  },
  "cells": [
    {
      "cell_type": "markdown",
      "source": [
        "A atividade consiste na execução de algoritmos de classificação usando os valores dos hiperparâmetros padrão (use cross_val_score) e também realizando uma busca em grade (use GridSearchCV) visando encontrar os melhores valores para cada caso. A medida utilizada para avaliar os modelos deve ser a acurácia."
      ],
      "metadata": {
        "id": "fapP1dg_xXPH"
      }
    },
    {
      "cell_type": "code",
      "execution_count": 1,
      "metadata": {
        "id": "pVNJMBh9xPeX"
      },
      "outputs": [],
      "source": [
        "import pandas as pd\n",
        "from sklearn.model_selection import KFold, cross_val_score, GridSearchCV\n",
        "from sklearn.preprocessing import LabelEncoder\n",
        "from sklearn.neighbors import KNeighborsClassifier\n",
        "from sklearn.svm import SVC\n",
        "from sklearn.tree import DecisionTreeClassifier\n",
        "from sklearn.linear_model import LogisticRegression"
      ]
    },
    {
      "cell_type": "code",
      "source": [
        "# 1. Carregar o dataset\n",
        "try:\n",
        "    df = pd.read_csv('voice.csv')\n",
        "except FileNotFoundError:\n",
        "    print(\"Erro: O arquivo 'voice.csv' não foi encontrado. Verifique se o arquivo está no mesmo diretório do script.\")\n",
        "    exit()\n"
      ],
      "metadata": {
        "id": "CiuBI54ayeC4"
      },
      "execution_count": 2,
      "outputs": []
    },
    {
      "cell_type": "code",
      "source": [
        "# 2. Pré-processar os dados\n",
        "X = df.drop('label', axis=1)\n",
        "y = df['label']\n",
        "\n",
        "le = LabelEncoder()\n",
        "y_encoded = le.fit_transform(y)"
      ],
      "metadata": {
        "id": "2pHXwonSygYI"
      },
      "execution_count": 3,
      "outputs": []
    },
    {
      "cell_type": "code",
      "source": [
        "# 3. Definir o objeto de validação cruzada\n",
        "cv = KFold(n_splits=5, shuffle=True, random_state=0)"
      ],
      "metadata": {
        "id": "KVZWbIlPyiU3"
      },
      "execution_count": 4,
      "outputs": []
    },
    {
      "cell_type": "code",
      "source": [
        "# 4. Definir algoritmos e grade de parâmetros\n",
        "algorithms = {\n",
        "    'KNN': {\n",
        "        'model': KNeighborsClassifier(),\n",
        "        'params': {\n",
        "            'n_neighbors': [3, 4, 5, 6, 7, 8, 9],\n",
        "            'weights': ['uniform', 'distance'],\n",
        "            'metric': ['cityblock', 'euclidean']\n",
        "        }\n",
        "    },\n",
        "    'SVM': {\n",
        "        'model': SVC(random_state=0),\n",
        "        'params': {\n",
        "            'C': [0.001, 0.01, 0.1, 1, 10, 100],\n",
        "            'gamma': [0.001, 0.01, 0.1, 1, 10, 100]\n",
        "        }\n",
        "    },\n",
        "    'Decision Tree': {\n",
        "        'model': DecisionTreeClassifier(random_state=0),\n",
        "        'params': {\n",
        "            'max_depth': [None, 5, 7, 9],\n",
        "            'min_samples_split': [2, 5, 10, 20, 30],\n",
        "            'criterion': ['gini', 'entropy']\n",
        "        }\n",
        "    },\n",
        "    'Logistic Regression': {\n",
        "        'model': LogisticRegression(random_state=0, max_iter=3000),\n",
        "        'params': {\n",
        "            'C': [0.001, 0.01, 0.1, 1, 10, 100, 1000, 10000]\n",
        "        }\n",
        "    }\n",
        "}"
      ],
      "metadata": {
        "id": "_925fQn2ykQW"
      },
      "execution_count": 5,
      "outputs": []
    },
    {
      "cell_type": "code",
      "source": [
        "\n",
        "# 5. Armazenar os resultados\n",
        "results = {}\n",
        "\n",
        "# 6. Loop para treinar e avaliar os modelos\n",
        "for name, algo_info in algorithms.items():\n",
        "    print(f\"\\n--- Processando {name} ---\")\n",
        "    model = algo_info['model']\n",
        "    params = algo_info['params']\n",
        "\n",
        "    # Avaliação com hiperparâmetros padrão\n",
        "    print(\"Avaliando com parâmetros padrão...\")\n",
        "    default_scores = cross_val_score(model, X, y_encoded, cv=cv, scoring='accuracy')\n",
        "    default_mean_accuracy = default_scores.mean()\n",
        "\n",
        "    # Busca em grade para tuning\n",
        "    print(\"Realizando Busca em Grade...\")\n",
        "    grid_search = GridSearchCV(model, params, cv=cv, scoring='accuracy')\n",
        "    grid_search.fit(X, y_encoded)\n",
        "    tuned_mean_accuracy = grid_search.best_score_\n",
        "    best_params = grid_search.best_params_\n",
        "\n",
        "    # Armazena os resultados\n",
        "    results[name] = {\n",
        "        'default_accuracy': default_mean_accuracy,\n",
        "        'tuned_accuracy': tuned_mean_accuracy,\n",
        "        'best_params': best_params\n",
        "    }"
      ],
      "metadata": {
        "colab": {
          "base_uri": "https://localhost:8080/"
        },
        "id": "obUlfj-vynyz",
        "outputId": "f9e830ea-7ca9-4630-9edd-7af378c7f6e9"
      },
      "execution_count": 6,
      "outputs": [
        {
          "output_type": "stream",
          "name": "stdout",
          "text": [
            "\n",
            "--- Processando KNN ---\n",
            "Avaliando com parâmetros padrão...\n",
            "Realizando Busca em Grade...\n",
            "\n",
            "--- Processando SVM ---\n",
            "Avaliando com parâmetros padrão...\n",
            "Realizando Busca em Grade...\n",
            "\n",
            "--- Processando Decision Tree ---\n",
            "Avaliando com parâmetros padrão...\n",
            "Realizando Busca em Grade...\n",
            "\n",
            "--- Processando Logistic Regression ---\n",
            "Avaliando com parâmetros padrão...\n",
            "Realizando Busca em Grade...\n"
          ]
        }
      ]
    },
    {
      "cell_type": "code",
      "source": [
        "# 7. Exibir os resultados finais\n",
        "print(\"\\n\" + \"=\"*50)\n",
        "print(\"Resumo dos Resultados Finais\")\n",
        "print(\"=\"*50)\n",
        "\n",
        "summary_df = pd.DataFrame(results).T\n",
        "summary_df['accuracy_diff'] = summary_df['tuned_accuracy'] - summary_df['default_accuracy']\n",
        "print(summary_df)\n",
        "\n",
        "# 8. Responder às questões\n",
        "print(\"\\n\" + \"-\"*50)\n",
        "print(\"Respostas para as Questões\")\n",
        "print(\"-\"*50)\n",
        "\n",
        "best_default = summary_df['default_accuracy'].idxmax()\n",
        "best_tuned = summary_df['tuned_accuracy'].idxmax()\n",
        "print(f\"1. Melhor desempenho com parâmetros padrão: {best_default} com acurácia de {summary_df.loc[best_default, 'default_accuracy']:.4f}\")\n",
        "print(f\"   Melhor desempenho com tuning: {best_tuned} com acurácia de {summary_df.loc[best_tuned, 'tuned_accuracy']:.4f}\")\n",
        "\n",
        "largest_diff_algo = summary_df['accuracy_diff'].idxmax()\n",
        "largest_diff_value = summary_df['accuracy_diff'].max()\n",
        "print(f\"2. Maior diferença de desempenho: {largest_diff_algo} com uma diferença de {largest_diff_value:.4f}\")\n",
        "\n",
        "no_diff_algo = summary_df[summary_df['accuracy_diff'] < 1e-4].index\n",
        "print(f\"3. Algoritmos com diferença insignificante: {list(no_diff_algo)}\")\n",
        "\n",
        "svm_best_params = results['SVM']['best_params']\n",
        "print(f\"4. Melhores valores para SVM: C={svm_best_params['C']}, Gamma={svm_best_params['gamma']}\")\n",
        "\n",
        "worst_tuned = summary_df['tuned_accuracy'].idxmin()\n",
        "worst_tuned_accuracy = summary_df.loc[worst_tuned, 'tuned_accuracy']\n",
        "print(f\"5. Pior desempenho após tuning: {worst_tuned} com acurácia de {worst_tuned_accuracy:.4f}\")"
      ],
      "metadata": {
        "colab": {
          "base_uri": "https://localhost:8080/"
        },
        "id": "Rskjmug3yrQ6",
        "outputId": "9a03a5ee-2612-4a3e-c0f7-b3f43c8e0d69"
      },
      "execution_count": 7,
      "outputs": [
        {
          "output_type": "stream",
          "name": "stdout",
          "text": [
            "\n",
            "==================================================\n",
            "Resumo dos Resultados Finais\n",
            "==================================================\n",
            "                    default_accuracy tuned_accuracy  \\\n",
            "KNN                         0.715273       0.803332   \n",
            "SVM                         0.672656       0.917293   \n",
            "Decision Tree               0.968437       0.968437   \n",
            "Logistic Regression         0.907509       0.971276   \n",
            "\n",
            "                                                           best_params  \\\n",
            "KNN                  {'metric': 'cityblock', 'n_neighbors': 6, 'wei...   \n",
            "SVM                                          {'C': 100, 'gamma': 0.01}   \n",
            "Decision Tree        {'criterion': 'gini', 'max_depth': None, 'min_...   \n",
            "Logistic Regression                                       {'C': 10000}   \n",
            "\n",
            "                    accuracy_diff  \n",
            "KNN                       0.08806  \n",
            "SVM                      0.244637  \n",
            "Decision Tree                 0.0  \n",
            "Logistic Regression      0.063767  \n",
            "\n",
            "--------------------------------------------------\n",
            "Respostas para as Questões\n",
            "--------------------------------------------------\n",
            "1. Melhor desempenho com parâmetros padrão: Decision Tree com acurácia de 0.9684\n",
            "   Melhor desempenho com tuning: Logistic Regression com acurácia de 0.9713\n",
            "2. Maior diferença de desempenho: SVM com uma diferença de 0.2446\n",
            "3. Algoritmos com diferença insignificante: ['Decision Tree']\n",
            "4. Melhores valores para SVM: C=100, Gamma=0.01\n",
            "5. Pior desempenho após tuning: KNN com acurácia de 0.8033\n"
          ]
        }
      ]
    }
  ]
}